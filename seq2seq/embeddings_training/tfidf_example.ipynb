{
 "cells": [
  {
   "cell_type": "code",
   "execution_count": null,
   "metadata": {},
   "outputs": [],
   "source": [
    "language = 'LANGUAGENAME'"
   ]
  },
  {
   "cell_type": "code",
   "execution_count": null,
   "metadata": {},
   "outputs": [],
   "source": [
    "with open(f'low_resource_mt/datasets/{language}/src-train.txt') as srctrain, open(f'low_resource_mt/datasets/{language}/tgt-train.txt') as tgttrain:\n",
    "    X_train = [x.strip() for x in srctrain.readlines()]\n",
    "    y_train = [x.strip() for x in tgttrain.readlines()]                "
   ]
  },
  {
   "cell_type": "code",
   "execution_count": null,
   "metadata": {},
   "outputs": [],
   "source": [
    "from sklearn.feature_extraction.text import TfidfVectorizer\n",
    "from sklearn.model_selection import train_test_split\n",
    "import numpy as np"
   ]
  },
  {
   "cell_type": "code",
   "execution_count": null,
   "metadata": {},
   "outputs": [],
   "source": [
    "vectorizer = TfidfVectorizer(tokenizer=lambda x : x.split(' '))\n",
    "X = vectorizer.fit_transform(X_train)\n",
    "print(X.shape)\n",
    "with open(f'{language}_embs.txt', 'w') as file:\n",
    "    for word in vectorizer.get_feature_names_out():\n",
    "        vector = np.array(vectorizer.transform([word]).todense())[0].tolist()\n",
    "        file.write(f'{word} {\" \".join([str(x) for x in vector])}\\n')"
   ]
  },
  {
   "cell_type": "code",
   "execution_count": null,
   "metadata": {},
   "outputs": [],
   "source": [
    "rusvectorizer = TfidfVectorizer(tokenizer=lambda x : x.split(' '))\n",
    "y = rusvectorizer.fit_transform(y_train)\n",
    "print(y.shape)\n",
    "with open(f'{language}_rusembs.txt', 'w') as file:\n",
    "    for word in rusvectorizer.get_feature_names_out():\n",
    "        vector = np.array(rusvectorizer.transform([word]).todense())[0].tolist()\n",
    "        file.write(f'{word} {\" \".join([str(x) for x in vector])}\\n')"
   ]
  }
 ],
 "metadata": {
  "kernelspec": {
   "display_name": "Python 3",
   "language": "python",
   "name": "python3"
  },
  "language_info": {
   "codemirror_mode": {
    "name": "ipython",
    "version": 3
   },
   "file_extension": ".py",
   "mimetype": "text/x-python",
   "name": "python",
   "nbconvert_exporter": "python",
   "pygments_lexer": "ipython3",
   "version": "3.6.8"
  }
 },
 "nbformat": 4,
 "nbformat_minor": 5
}
