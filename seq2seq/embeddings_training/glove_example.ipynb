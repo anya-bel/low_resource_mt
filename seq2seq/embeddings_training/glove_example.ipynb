{
 "cells": [
  {
   "cell_type": "code",
   "execution_count": 1,
   "metadata": {},
   "outputs": [
    {
     "name": "stdout",
     "output_type": "stream",
     "text": [
      "Cloning into 'glove'...\n",
      "remote: Enumerating objects: 606, done.\u001b[K\n",
      "remote: Counting objects: 100% (14/14), done.\u001b[K\n",
      "remote: Compressing objects: 100% (10/10), done.\u001b[K\n",
      "remote: Total 606 (delta 5), reused 8 (delta 4), pack-reused 592\u001b[K\n",
      "Receiving objects: 100% (606/606), 224.87 KiB | 1.13 MiB/s, done.\n",
      "Resolving deltas: 100% (343/343), done.\n"
     ]
    }
   ],
   "source": [
    "!git clone https://github.com/stanfordnlp/glove"
   ]
  },
  {
   "cell_type": "code",
   "execution_count": 11,
   "metadata": {},
   "outputs": [
    {
     "name": "stdout",
     "output_type": "stream",
     "text": [
      "/Users/anna/Documents/GitHub/low_resource_mt/seq2seq/embeddings_training/glove\n",
      "mkdir -p build\r\n"
     ]
    }
   ],
   "source": [
    "%cd glove \n",
    "!make"
   ]
  },
  {
   "cell_type": "markdown",
   "metadata": {},
   "source": [
    "To train a new model, delete the corpus download and replace the name of the corpus text8 in the demo.sh file with the path to the new corpus"
   ]
  },
  {
   "cell_type": "code",
   "execution_count": 12,
   "metadata": {},
   "outputs": [
    {
     "name": "stdout",
     "output_type": "stream",
     "text": [
      "mkdir -p build\n",
      "--2022-08-25 15:43:12--  http://mattmahoney.net/dc/text8.zip\n",
      "Resolving mattmahoney.net (mattmahoney.net)... 67.195.197.24\n",
      "Connecting to mattmahoney.net (mattmahoney.net)|67.195.197.24|:80... connected.\n",
      "HTTP request sent, awaiting response... 200 OK\n",
      "Length: 31344016 (30M) [application/zip]\n",
      "Saving to: ‘text8.zip’\n",
      "\n",
      "text8.zip           100%[===================>]  29.89M   283KB/s    in 89s     \n",
      "\n",
      "2022-08-25 15:44:41 (346 KB/s) - ‘text8.zip’ saved [31344016/31344016]\n",
      "\n",
      "Archive:  text8.zip\n",
      "  inflating: text8                   \n",
      "\n",
      "$ build/vocab_count -min-count 5 -verbose 2 < text8 > vocab.txt\n",
      "BUILDING VOCABULARY\n",
      "Processed 0 tokens.\u001b[11G100000 tokens.\u001b[11G200000 tokens.\u001b[11G300000 tokens.\u001b[11G400000 tokens.\u001b[11G500000 tokens.\u001b[11G600000 tokens.\u001b[11G700000 tokens.\u001b[11G800000 tokens.\u001b[11G900000 tokens.\u001b[11G1000000 tokens.\u001b[11G1100000 tokens.\u001b[11G1200000 tokens.\u001b[11G1300000 tokens.\u001b[11G1400000 tokens.\u001b[11G1500000 tokens.\u001b[11G1600000 tokens.\u001b[11G1700000 tokens.\u001b[11G1800000 tokens.\u001b[11G1900000 tokens.\u001b[11G2000000 tokens.\u001b[11G2100000 tokens.\u001b[11G2200000 tokens.\u001b[11G2300000 tokens.\u001b[11G2400000 tokens.\u001b[11G2500000 tokens.\u001b[11G2600000 tokens.\u001b[11G2700000 tokens.\u001b[11G2800000 tokens.\u001b[11G2900000 tokens.\u001b[11G3000000 tokens.\u001b[11G3100000 tokens.\u001b[11G3200000 tokens.\u001b[11G3300000 tokens.\u001b[11G3400000 tokens.\u001b[11G3500000 tokens.\u001b[11G3600000 tokens.\u001b[11G3700000 tokens.\u001b[11G3800000 tokens.\u001b[11G3900000 tokens.\u001b[11G4000000 tokens.\u001b[11G4100000 tokens.\u001b[11G4200000 tokens.\u001b[11G4300000 tokens.\u001b[11G4400000 tokens.\u001b[11G4500000 tokens.\u001b[11G4600000 tokens.\u001b[11G4700000 tokens.\u001b[11G4800000 tokens.\u001b[11G4900000 tokens.\u001b[11G5000000 tokens.\u001b[11G5100000 tokens.\u001b[11G5200000 tokens.\u001b[11G5300000 tokens.\u001b[11G5400000 tokens.\u001b[11G5500000 tokens.\u001b[11G5600000 tokens.\u001b[11G5700000 tokens.\u001b[11G5800000 tokens.\u001b[11G5900000 tokens.\u001b[11G6000000 tokens.\u001b[11G6100000 tokens.\u001b[11G6200000 tokens.\u001b[11G6300000 tokens.\u001b[11G6400000 tokens.\u001b[11G6500000 tokens.\u001b[11G6600000 tokens.\u001b[11G6700000 tokens.\u001b[11G6800000 tokens.\u001b[11G6900000 tokens.\u001b[11G7000000 tokens.\u001b[11G7100000 tokens.\u001b[11G7200000 tokens.\u001b[11G7300000 tokens.\u001b[11G7400000 tokens.\u001b[11G7500000 tokens.\u001b[11G7600000 tokens.\u001b[11G7700000 tokens.\u001b[11G7800000 tokens.\u001b[11G7900000 tokens.\u001b[11G8000000 tokens.\u001b[11G8100000 tokens.\u001b[11G8200000 tokens.\u001b[11G8300000 tokens.\u001b[11G8400000 tokens.\u001b[11G8500000 tokens.\u001b[11G8600000 tokens.\u001b[11G8700000 tokens.\u001b[11G8800000 tokens.\u001b[11G8900000 tokens.\u001b[11G9000000 tokens.\u001b[11G9100000 tokens.\u001b[11G9200000 tokens.\u001b[11G9300000 tokens.\u001b[11G9400000 tokens.\u001b[11G9500000 tokens.\u001b[11G9600000 tokens.\u001b[11G9700000 tokens.\u001b[11G9800000 tokens.\u001b[11G9900000 tokens.\u001b[11G10000000 tokens.\u001b[11G10100000 tokens.\u001b[11G10200000 tokens.\u001b[11G10300000 tokens.\u001b[11G10400000 tokens.\u001b[11G10500000 tokens.\u001b[11G10600000 tokens.\u001b[11G10700000 tokens.\u001b[11G10800000 tokens.\u001b[11G10900000 tokens.\u001b[11G11000000 tokens.\u001b[11G11100000 tokens.\u001b[11G11200000 tokens.\u001b[11G11300000 tokens.\u001b[11G11400000 tokens.\u001b[11G11500000 tokens.\u001b[11G11600000 tokens.\u001b[11G11700000 tokens.\u001b[11G11800000 tokens.\u001b[11G11900000 tokens.\u001b[11G12000000 tokens.\u001b[11G12100000 tokens.\u001b[11G12200000 tokens.\u001b[11G12300000 tokens.\u001b[11G12400000 tokens.\u001b[11G12500000 tokens.\u001b[11G12600000 tokens.\u001b[11G12700000 tokens.\u001b[11G12800000 tokens.\u001b[11G12900000 tokens.\u001b[11G13000000 tokens.\u001b[11G13100000 tokens.\u001b[11G13200000 tokens.\u001b[11G13300000 tokens.\u001b[11G13400000 tokens.\u001b[11G13500000 tokens.\u001b[11G13600000 tokens.\u001b[11G13700000 tokens.\u001b[11G13800000 tokens.\u001b[11G13900000 tokens.\u001b[11G14000000 tokens.\u001b[11G14100000 tokens.\u001b[11G14200000 tokens.\u001b[11G14300000 tokens.\u001b[11G14400000 tokens.\u001b[11G14500000 tokens.\u001b[11G14600000 tokens.\u001b[11G14700000 tokens.\u001b[11G14800000 tokens.\u001b[11G14900000 tokens.\u001b[11G15000000 tokens.\u001b[11G15100000 tokens.\u001b[11G15200000 tokens.\u001b[11G15300000 tokens.\u001b[11G15400000 tokens.\u001b[11G15500000 tokens.\u001b[11G15600000 tokens.\u001b[11G15700000 tokens.\u001b[11G15800000 tokens.\u001b[11G15900000 tokens.\u001b[11G16000000 tokens.\u001b[11G16100000 tokens.\u001b[11G16200000 tokens.\u001b[11G16300000 tokens.\u001b[11G16400000 tokens.\u001b[11G16500000 tokens.\u001b[11G16600000 tokens.\u001b[11G16700000 tokens.\u001b[11G16800000 tokens.\u001b[11G16900000 tokens.\u001b[11G17000000 tokens.\u001b[0GProcessed 17005207 tokens.\n",
      "Counted 253854 unique words.\n",
      "Truncating vocabulary at min count 5.\n",
      "Using vocabulary of size 71290.\n",
      "\n",
      "$ build/cooccur -memory 4.0 -vocab-file vocab.txt -verbose 2 -window-size 15 < text8 > cooccurrence.bin\n",
      "COUNTING COOCCURRENCES\n",
      "window size: 15\n",
      "context: symmetric\n",
      "max product: 13752509\n",
      "overflow length: 38028356\n",
      "Reading vocab from file \"vocab.txt\"...loaded 71290 words.\n",
      "Building lookup table...table contains 94990279 elements.\n",
      "Processing token: 0\u001b[19G100000\u001b[19G200000\u001b[19G300000\u001b[19G400000\u001b[19G500000\u001b[19G600000\u001b[19G700000\u001b[19G800000\u001b[19G900000\u001b[19G1000000\u001b[19G1100000\u001b[19G1200000\u001b[19G1300000\u001b[19G1400000\u001b[19G1500000\u001b[19G1600000\u001b[19G1700000\u001b[19G1800000\u001b[19G1900000\u001b[19G2000000\u001b[19G2100000\u001b[19G2200000\u001b[19G2300000\u001b[19G2400000\u001b[19G2500000\u001b[19G2600000\u001b[19G2700000\u001b[19G2800000\u001b[19G2900000\u001b[19G3000000\u001b[19G3100000\u001b[19G3200000\u001b[19G3300000\u001b[19G3400000\u001b[19G3500000\u001b[19G3600000\u001b[19G3700000\u001b[19G3800000\u001b[19G3900000\u001b[19G4000000\u001b[19G4100000\u001b[19G4200000\u001b[19G4300000\u001b[19G4400000\u001b[19G4500000\u001b[19G4600000\u001b[19G4700000\u001b[19G4800000\u001b[19G4900000\u001b[19G5000000\u001b[19G5100000\u001b[19G5200000\u001b[19G5300000\u001b[19G5400000\u001b[19G5500000\u001b[19G5600000\u001b[19G5700000\u001b[19G5800000\u001b[19G5900000\u001b[19G6000000\u001b[19G6100000\u001b[19G6200000\u001b[19G6300000\u001b[19G6400000\u001b[19G6500000\u001b[19G6600000\u001b[19G6700000\u001b[19G6800000\u001b[19G6900000\u001b[19G7000000\u001b[19G7100000\u001b[19G7200000\u001b[19G7300000\u001b[19G7400000\u001b[19G7500000\u001b[19G7600000\u001b[19G7700000\u001b[19G7800000\u001b[19G7900000\u001b[19G8000000\u001b[19G8100000\u001b[19G8200000\u001b[19G8300000\u001b[19G8400000\u001b[19G8500000\u001b[19G8600000\u001b[19G8700000\u001b[19G8800000\u001b[19G8900000\u001b[19G9000000\u001b[19G9100000\u001b[19G9200000\u001b[19G9300000\u001b[19G9400000\u001b[19G9500000\u001b[19G9600000\u001b[19G9700000\u001b[19G9800000\u001b[19G9900000\u001b[19G10000000\u001b[19G10100000\u001b[19G10200000\u001b[19G10300000\u001b[19G10400000\u001b[19G10500000\u001b[19G10600000\u001b[19G10700000\u001b[19G10800000\u001b[19G10900000\u001b[19G11000000\u001b[19G11100000\u001b[19G11200000\u001b[19G11300000\u001b[19G11400000\u001b[19G11500000\u001b[19G11600000\u001b[19G11700000\u001b[19G11800000\u001b[19G11900000\u001b[19G12000000\u001b[19G12100000\u001b[19G12200000\u001b[19G12300000\u001b[19G12400000\u001b[19G12500000\u001b[19G12600000\u001b[19G12700000\u001b[19G12800000\u001b[19G12900000\u001b[19G13000000\u001b[19G13100000\u001b[19G13200000\u001b[19G13300000\u001b[19G13400000\u001b[19G13500000\u001b[19G13600000\u001b[19G13700000\u001b[19G13800000\u001b[19G13900000\u001b[19G14000000\u001b[19G14100000\u001b[19G14200000\u001b[19G14300000\u001b[19G14400000\u001b[19G14500000\u001b[19G14600000\u001b[19G14700000\u001b[19G14800000\u001b[19G14900000\u001b[19G15000000\u001b[19G15100000\u001b[19G15200000\u001b[19G15300000\u001b[19G15400000\u001b[19G15500000\u001b[19G15600000\u001b[19G15700000\u001b[19G15800000\u001b[19G15900000\u001b[19G16000000\u001b[19G16100000\u001b[19G16200000\u001b[19G16300000\u001b[19G16400000\u001b[19G16500000\u001b[19G16600000\u001b[19G16700000\u001b[19G16800000\u001b[19G16900000\u001b[19G17000000\u001b[0GProcessed 17005207 tokens.\n",
      "Writing cooccurrences to disk.........2 files in total.\n"
     ]
    },
    {
     "name": "stdout",
     "output_type": "stream",
     "text": [
      "Merging cooccurrence files: processed 0 lines.\u001b[39G100000 lines.\u001b[39G200000 lines.\u001b[39G300000 lines.\u001b[39G400000 lines.\u001b[39G500000 lines.\u001b[39G600000 lines.\u001b[39G700000 lines.\u001b[39G800000 lines.\u001b[39G900000 lines.\u001b[39G1000000 lines.\u001b[39G1100000 lines.\u001b[39G1200000 lines.\u001b[39G1300000 lines.\u001b[39G1400000 lines.\u001b[39G1500000 lines.\u001b[39G1600000 lines.\u001b[39G1700000 lines.\u001b[39G1800000 lines.\u001b[39G1900000 lines.\u001b[39G2000000 lines.\u001b[39G2100000 lines.\u001b[39G2200000 lines.\u001b[39G2300000 lines.\u001b[39G2400000 lines.\u001b[39G2500000 lines.\u001b[39G2600000 lines.\u001b[39G2700000 lines.\u001b[39G2800000 lines.\u001b[39G2900000 lines.\u001b[39G3000000 lines.\u001b[39G3100000 lines.\u001b[39G3200000 lines.\u001b[39G3300000 lines.\u001b[39G3400000 lines.\u001b[39G3500000 lines.\u001b[39G3600000 lines.\u001b[39G3700000 lines.\u001b[39G3800000 lines.\u001b[39G3900000 lines.\u001b[39G4000000 lines.\u001b[39G4100000 lines.\u001b[39G4200000 lines.\u001b[39G4300000 lines.\u001b[39G4400000 lines.\u001b[39G4500000 lines.\u001b[39G4600000 lines.\u001b[39G4700000 lines.\u001b[39G4800000 lines.\u001b[39G4900000 lines.\u001b[39G5000000 lines.\u001b[39G5100000 lines.\u001b[39G5200000 lines.\u001b[39G5300000 lines.\u001b[39G5400000 lines.\u001b[39G5500000 lines.\u001b[39G5600000 lines.\u001b[39G5700000 lines.\u001b[39G5800000 lines.\u001b[39G5900000 lines.\u001b[39G6000000 lines.\u001b[39G6100000 lines.\u001b[39G6200000 lines.\u001b[39G6300000 lines.\u001b[39G6400000 lines.\u001b[39G6500000 lines.\u001b[39G6600000 lines.\u001b[39G6700000 lines.\u001b[39G6800000 lines.\u001b[39G6900000 lines.\u001b[39G7000000 lines.\u001b[39G7100000 lines.\u001b[39G7200000 lines.\u001b[39G7300000 lines.\u001b[39G7400000 lines.\u001b[39G7500000 lines.\u001b[39G7600000 lines.\u001b[39G7700000 lines.\u001b[39G7800000 lines.\u001b[39G7900000 lines.\u001b[39G8000000 lines.\u001b[39G8100000 lines.\u001b[39G8200000 lines.\u001b[39G8300000 lines.\u001b[39G8400000 lines.\u001b[39G8500000 lines.\u001b[39G8600000 lines.\u001b[39G8700000 lines.\u001b[39G8800000 lines.\u001b[39G8900000 lines.\u001b[39G9000000 lines.\u001b[39G9100000 lines.\u001b[39G9200000 lines.\u001b[39G9300000 lines.\u001b[39G9400000 lines.\u001b[39G9500000 lines.\u001b[39G9600000 lines.\u001b[39G9700000 lines.\u001b[39G9800000 lines.\u001b[39G9900000 lines.\u001b[39G10000000 lines.\u001b[39G10100000 lines.\u001b[39G10200000 lines.\u001b[39G10300000 lines.\u001b[39G10400000 lines.\u001b[39G10500000 lines.\u001b[39G10600000 lines.\u001b[39G10700000 lines.\u001b[39G10800000 lines.\u001b[39G10900000 lines.\u001b[39G11000000 lines.\u001b[39G11100000 lines.\u001b[39G11200000 lines.\u001b[39G11300000 lines.\u001b[39G11400000 lines.\u001b[39G11500000 lines.\u001b[39G11600000 lines.\u001b[39G11700000 lines.\u001b[39G11800000 lines.\u001b[39G11900000 lines.\u001b[39G12000000 lines.\u001b[39G12100000 lines.\u001b[39G12200000 lines.\u001b[39G12300000 lines.\u001b[39G12400000 lines.\u001b[39G12500000 lines.\u001b[39G12600000 lines.\u001b[39G12700000 lines.\u001b[39G12800000 lines.\u001b[39G12900000 lines.\u001b[39G13000000 lines.\u001b[39G13100000 lines.\u001b[39G13200000 lines.\u001b[39G13300000 lines.\u001b[39G13400000 lines.\u001b[39G13500000 lines.\u001b[39G13600000 lines.\u001b[39G13700000 lines.\u001b[39G13800000 lines.\u001b[39G13900000 lines.\u001b[39G14000000 lines.\u001b[39G14100000 lines.\u001b[39G14200000 lines.\u001b[39G14300000 lines.\u001b[39G14400000 lines.\u001b[39G14500000 lines.\u001b[39G14600000 lines.\u001b[39G14700000 lines.\u001b[39G14800000 lines.\u001b[39G14900000 lines.\u001b[39G15000000 lines.\u001b[39G15100000 lines.\u001b[39G15200000 lines.\u001b[39G15300000 lines.\u001b[39G15400000 lines.\u001b[39G15500000 lines.\u001b[39G15600000 lines.\u001b[39G15700000 lines.\u001b[39G15800000 lines.\u001b[39G15900000 lines.\u001b[39G16000000 lines.\u001b[39G16100000 lines.\u001b[39G16200000 lines.\u001b[39G16300000 lines.\u001b[39G16400000 lines.\u001b[39G16500000 lines.\u001b[39G16600000 lines.\u001b[39G16700000 lines.\u001b[39G16800000 lines.\u001b[39G16900000 lines.\u001b[39G17000000 lines.\u001b[39G17100000 lines.\u001b[39G17200000 lines.\u001b[39G17300000 lines.\u001b[39G17400000 lines.\u001b[39G17500000 lines.\u001b[39G17600000 lines.\u001b[39G17700000 lines.\u001b[39G17800000 lines.\u001b[39G17900000 lines.\u001b[39G18000000 lines.\u001b[39G18100000 lines.\u001b[39G18200000 lines.\u001b[39G18300000 lines.\u001b[39G18400000 lines.\u001b[39G18500000 lines.\u001b[39G18600000 lines.\u001b[39G18700000 lines.\u001b[39G18800000 lines.\u001b[39G18900000 lines.\u001b[39G19000000 lines.\u001b[39G19100000 lines.\u001b[39G19200000 lines.\u001b[39G19300000 lines.\u001b[39G19400000 lines.\u001b[39G19500000 lines.\u001b[39G19600000 lines.\u001b[39G19700000 lines.\u001b[39G19800000 lines.\u001b[39G19900000 lines.\u001b[39G20000000 lines.\u001b[39G20100000 lines.\u001b[39G20200000 lines.\u001b[39G20300000 lines.\u001b[39G20400000 lines.\u001b[39G20500000 lines.\u001b[39G20600000 lines.\u001b[39G20700000 lines.\u001b[39G20800000 lines.\u001b[39G20900000 lines.\u001b[39G21000000 lines.\u001b[39G21100000 lines.\u001b[39G21200000 lines.\u001b[39G21300000 lines.\u001b[39G21400000 lines.\u001b[39G21500000 lines.\u001b[39G21600000 lines.\u001b[39G21700000 lines.\u001b[39G21800000 lines.\u001b[39G21900000 lines.\u001b[39G22000000 lines.\u001b[39G22100000 lines.\u001b[39G22200000 lines.\u001b[39G22300000 lines.\u001b[39G22400000 lines.\u001b[39G22500000 lines.\u001b[39G22600000 lines.\u001b[39G22700000 lines.\u001b[39G22800000 lines.\u001b[39G22900000 lines.\u001b[39G23000000 lines.\u001b[39G23100000 lines.\u001b[39G23200000 lines.\u001b[39G23300000 lines.\u001b[39G23400000 lines.\u001b[39G23500000 lines.\u001b[39G23600000 lines.\u001b[39G23700000 lines.\u001b[39G23800000 lines.\u001b[39G23900000 lines.\u001b[39G24000000 lines.\u001b[39G24100000 lines.\u001b[39G24200000 lines.\u001b[39G24300000 lines.\u001b[39G24400000 lines.\u001b[39G24500000 lines.\u001b[39G24600000 lines.\u001b[39G24700000 lines.\u001b[39G24800000 lines.\u001b[39G24900000 lines.\u001b[39G25000000 lines.\u001b[39G25100000 lines.\u001b[39G25200000 lines.\u001b[39G25300000 lines.\u001b[39G25400000 lines.\u001b[39G25500000 lines.\u001b[39G25600000 lines.\u001b[39G25700000 lines.\u001b[39G25800000 lines.\u001b[39G25900000 lines.\u001b[39G26000000 lines.\u001b[39G26100000 lines.\u001b[39G26200000 lines.\u001b[39G26300000 lines.\u001b[39G26400000 lines.\u001b[39G26500000 lines.\u001b[39G26600000 lines.\u001b[39G26700000 lines.\u001b[39G26800000 lines.\u001b[39G26900000 lines.\u001b[39G27000000 lines.\u001b[39G27100000 lines.\u001b[39G27200000 lines.\u001b[39G27300000 lines.\u001b[39G27400000 lines.\u001b[39G27500000 lines.\u001b[39G27600000 lines.\u001b[39G27700000 lines.\u001b[39G27800000 lines.\u001b[39G27900000 lines.\u001b[39G28000000 lines.\u001b[39G28100000 lines.\u001b[39G28200000 lines.\u001b[39G28300000 lines.\u001b[39G28400000 lines.\u001b[39G28500000 lines.\u001b[39G28600000 lines.\u001b[39G28700000 lines.\u001b[39G28800000 lines.\u001b[39G28900000 lines.\u001b[39G29000000 lines.\u001b[39G29100000 lines.\u001b[39G29200000 lines.\u001b[39G29300000 lines.\u001b[39G29400000 lines.\u001b[39G29500000 lines.\u001b[39G29600000 lines.\u001b[39G29700000 lines.\u001b[39G29800000 lines.\u001b[39G29900000 lines.\u001b[39G30000000 lines.\u001b[39G30100000 lines.\u001b[39G30200000 lines.\u001b[39G30300000 lines.\u001b[39G30400000 lines.\u001b[39G30500000 lines.\u001b[39G30600000 lines.\u001b[39G30700000 lines.\u001b[39G30800000 lines.\u001b[39G30900000 lines.\u001b[39G31000000 lines.\u001b[39G31100000 lines.\u001b[39G31200000 lines.\u001b[39G31300000 lines.\u001b[39G31400000 lines.\u001b[39G31500000 lines.\u001b[39G31600000 lines.\u001b[39G31700000 lines.\u001b[39G31800000 lines.\u001b[39G31900000 lines.\u001b[39G32000000 lines.\u001b[39G32100000 lines.\u001b[39G32200000 lines.\u001b[39G32300000 lines.\u001b[39G32400000 lines.\u001b[39G32500000 lines.\u001b[39G32600000 lines.\u001b[39G32700000 lines.\u001b[39G32800000 lines.\u001b[39G32900000 lines.\u001b[39G33000000 lines.\u001b[39G33100000 lines.\u001b[39G33200000 lines.\u001b[39G33300000 lines.\u001b[39G33400000 lines.\u001b[39G33500000 lines.\u001b[39G33600000 lines.\u001b[39G33700000 lines.\u001b[39G33800000 lines.\u001b[39G33900000 lines.\u001b[39G34000000 lines.\u001b[39G34100000 lines.\u001b[39G34200000 lines.\u001b[39G34300000 lines.\u001b[39G34400000 lines.\u001b[39G34500000 lines.\u001b[39G34600000 lines.\u001b[39G34700000 lines.\u001b[39G34800000 lines.\u001b[39G34900000 lines.\u001b[39G35000000 lines.\u001b[39G35100000 lines.\u001b[39G35200000 lines.\u001b[39G35300000 lines.\u001b[39G35400000 lines.\u001b[39G35500000 lines.\u001b[39G35600000 lines.\u001b[39G35700000 lines.\u001b[39G35800000 lines.\u001b[39G35900000 lines.\u001b[39G36000000 lines.\u001b[39G36100000 lines.\u001b[39G36200000 lines.\u001b[39G36300000 lines.\u001b[39G36400000 lines.\u001b[39G36500000 lines.\u001b[39G36600000 lines.\u001b[39G36700000 lines.\u001b[39G36800000 lines.\u001b[39G36900000 lines.\u001b[39G37000000 lines.\u001b[39G37100000 lines.\u001b[39G37200000 lines.\u001b[39G37300000 lines.\u001b[39G37400000 lines.\u001b[39G37500000 lines.\u001b[39G37600000 lines.\u001b[39G37700000 lines.\u001b[39G37800000 lines.\u001b[39G37900000 lines.\u001b[39G38000000 lines.\u001b[39G38100000 lines.\u001b[39G38200000 lines.\u001b[39G38300000 lines.\u001b[39G38400000 lines.\u001b[39G38500000 lines.\u001b[39G38600000 lines.\u001b[39G38700000 lines.\u001b[39G38800000 lines.\u001b[39G38900000 lines.\u001b[39G39000000 lines.\u001b[39G39100000 lines.\u001b[39G39200000 lines.\u001b[39G39300000 lines.\u001b[39G39400000 lines.\u001b[39G39500000 lines.\u001b[39G39600000 lines.\u001b[39G39700000 lines.\u001b[39G39800000 lines.\u001b[39G39900000 lines.\u001b[39G40000000 lines.\u001b[39G40100000 lines.\u001b[39G40200000 lines.\u001b[39G40300000 lines.\u001b[39G40400000 lines.\u001b[39G40500000 lines.\u001b[39G40600000 lines.\u001b[39G40700000 lines.\u001b[39G40800000 lines.\u001b[39G40900000 lines.\u001b[39G41000000 lines.\u001b[39G41100000 lines.\u001b[39G41200000 lines.\u001b[39G41300000 lines.\u001b[39G41400000 lines."
     ]
    },
    {
     "name": "stdout",
     "output_type": "stream",
     "text": [
      "\u001b[39G41500000 lines.\u001b[39G41600000 lines.\u001b[39G41700000 lines.\u001b[39G41800000 lines.\u001b[39G41900000 lines.\u001b[39G42000000 lines.\u001b[39G42100000 lines.\u001b[39G42200000 lines.\u001b[39G42300000 lines.\u001b[39G42400000 lines.\u001b[39G42500000 lines.\u001b[39G42600000 lines.\u001b[39G42700000 lines.\u001b[39G42800000 lines.\u001b[39G42900000 lines.\u001b[39G43000000 lines.\u001b[39G43100000 lines.\u001b[39G43200000 lines.\u001b[39G43300000 lines.\u001b[39G43400000 lines.\u001b[39G43500000 lines.\u001b[39G43600000 lines.\u001b[39G43700000 lines.\u001b[39G43800000 lines.\u001b[39G43900000 lines.\u001b[39G44000000 lines.\u001b[39G44100000 lines.\u001b[39G44200000 lines.\u001b[39G44300000 lines.\u001b[39G44400000 lines.\u001b[39G44500000 lines.\u001b[39G44600000 lines.\u001b[39G44700000 lines.\u001b[39G44800000 lines.\u001b[39G44900000 lines.\u001b[39G45000000 lines.\u001b[39G45100000 lines.\u001b[39G45200000 lines.\u001b[39G45300000 lines.\u001b[39G45400000 lines.\u001b[39G45500000 lines.\u001b[39G45600000 lines.\u001b[39G45700000 lines.\u001b[39G45800000 lines.\u001b[39G45900000 lines.\u001b[39G46000000 lines.\u001b[39G46100000 lines.\u001b[39G46200000 lines.\u001b[39G46300000 lines.\u001b[39G46400000 lines.\u001b[39G46500000 lines.\u001b[39G46600000 lines.\u001b[39G46700000 lines.\u001b[39G46800000 lines.\u001b[39G46900000 lines.\u001b[39G47000000 lines.\u001b[39G47100000 lines.\u001b[39G47200000 lines.\u001b[39G47300000 lines.\u001b[39G47400000 lines.\u001b[39G47500000 lines.\u001b[39G47600000 lines.\u001b[39G47700000 lines.\u001b[39G47800000 lines.\u001b[39G47900000 lines.\u001b[39G48000000 lines.\u001b[39G48100000 lines.\u001b[39G48200000 lines.\u001b[39G48300000 lines.\u001b[39G48400000 lines.\u001b[39G48500000 lines.\u001b[39G48600000 lines.\u001b[39G48700000 lines.\u001b[39G48800000 lines.\u001b[39G48900000 lines.\u001b[39G49000000 lines.\u001b[39G49100000 lines.\u001b[39G49200000 lines.\u001b[39G49300000 lines.\u001b[39G49400000 lines.\u001b[39G49500000 lines.\u001b[39G49600000 lines.\u001b[39G49700000 lines.\u001b[39G49800000 lines.\u001b[39G49900000 lines.\u001b[39G50000000 lines.\u001b[39G50100000 lines.\u001b[39G50200000 lines.\u001b[39G50300000 lines.\u001b[39G50400000 lines.\u001b[39G50500000 lines.\u001b[39G50600000 lines.\u001b[39G50700000 lines.\u001b[39G50800000 lines.\u001b[39G50900000 lines.\u001b[39G51000000 lines.\u001b[39G51100000 lines.\u001b[39G51200000 lines.\u001b[39G51300000 lines.\u001b[39G51400000 lines.\u001b[39G51500000 lines.\u001b[39G51600000 lines.\u001b[39G51700000 lines.\u001b[39G51800000 lines.\u001b[39G51900000 lines.\u001b[39G52000000 lines.\u001b[39G52100000 lines.\u001b[39G52200000 lines.\u001b[39G52300000 lines.\u001b[39G52400000 lines.\u001b[39G52500000 lines.\u001b[39G52600000 lines.\u001b[39G52700000 lines.\u001b[39G52800000 lines.\u001b[39G52900000 lines.\u001b[39G53000000 lines.\u001b[39G53100000 lines.\u001b[39G53200000 lines.\u001b[39G53300000 lines.\u001b[39G53400000 lines.\u001b[39G53500000 lines.\u001b[39G53600000 lines.\u001b[39G53700000 lines.\u001b[39G53800000 lines.\u001b[39G53900000 lines.\u001b[39G54000000 lines.\u001b[39G54100000 lines.\u001b[39G54200000 lines.\u001b[39G54300000 lines.\u001b[39G54400000 lines.\u001b[39G54500000 lines.\u001b[39G54600000 lines.\u001b[39G54700000 lines.\u001b[39G54800000 lines.\u001b[39G54900000 lines.\u001b[39G55000000 lines.\u001b[39G55100000 lines.\u001b[39G55200000 lines.\u001b[39G55300000 lines.\u001b[39G55400000 lines.\u001b[39G55500000 lines.\u001b[39G55600000 lines.\u001b[39G55700000 lines.\u001b[39G55800000 lines.\u001b[39G55900000 lines.\u001b[39G56000000 lines.\u001b[39G56100000 lines.\u001b[39G56200000 lines.\u001b[39G56300000 lines.\u001b[39G56400000 lines.\u001b[39G56500000 lines.\u001b[39G56600000 lines.\u001b[39G56700000 lines.\u001b[39G56800000 lines.\u001b[39G56900000 lines.\u001b[39G57000000 lines.\u001b[39G57100000 lines.\u001b[39G57200000 lines.\u001b[39G57300000 lines.\u001b[39G57400000 lines.\u001b[39G57500000 lines.\u001b[39G57600000 lines.\u001b[39G57700000 lines.\u001b[39G57800000 lines.\u001b[39G57900000 lines.\u001b[39G58000000 lines.\u001b[39G58100000 lines.\u001b[39G58200000 lines.\u001b[39G58300000 lines.\u001b[39G58400000 lines.\u001b[39G58500000 lines.\u001b[39G58600000 lines.\u001b[39G58700000 lines.\u001b[39G58800000 lines.\u001b[39G58900000 lines.\u001b[39G59000000 lines.\u001b[39G59100000 lines.\u001b[39G59200000 lines.\u001b[39G59300000 lines.\u001b[39G59400000 lines.\u001b[39G59500000 lines.\u001b[39G59600000 lines.\u001b[39G59700000 lines.\u001b[39G59800000 lines.\u001b[39G59900000 lines.\u001b[39G60000000 lines.\u001b[39G60100000 lines.\u001b[39G60200000 lines.\u001b[39G60300000 lines.\u001b[39G60400000 lines.\u001b[39G60500000 lines.\u001b[39G60600000 lines.\u001b[0GMerging cooccurrence files: processed 60666468 lines.\n",
      "\n",
      "$ build/shuffle -memory 4.0 -verbose 2 < cooccurrence.bin > cooccurrence.shuf.bin\n",
      "Using random seed 1661435125\n",
      "SHUFFLING COOCCURRENCES\n",
      "array size: 255013683\n",
      "Shuffling by chunks: processed 0 lines.\u001b[22Gprocessed 60666468 lines.\n",
      "Wrote 1 temporary file(s).\n",
      "Merging temp files: processed 0 lines.\u001b[31G60666468 lines.\u001b[0GMerging temp files: processed 60666468 lines.\n",
      "\n",
      "$ build/glove -save-file vectors -threads 8 -input-file cooccurrence.shuf.bin -x-max 10 -iter 15 -vector-size 50 -binary 2 -vocab-file vocab.txt -verbose 2\n",
      "TRAINING MODEL\n",
      "Read 60666468 lines.\n",
      "Initializing parameters...Using random seed 1661435149\n",
      "done.\n",
      "vector size: 50\n",
      "vocab size: 71290\n",
      "x_max: 10.000000\n",
      "alpha: 0.750000\n",
      "08/25/22 - 03:46.01PM, iter: 001, cost: 0.071297\n",
      "08/25/22 - 03:46.10PM, iter: 002, cost: 0.052709\n",
      "08/25/22 - 03:46.20PM, iter: 003, cost: 0.046679\n",
      "08/25/22 - 03:46.30PM, iter: 004, cost: 0.043367\n",
      "08/25/22 - 03:46.48PM, iter: 005, cost: 0.041429\n",
      "08/25/22 - 03:47.05PM, iter: 006, cost: 0.040162\n",
      "08/25/22 - 03:47.16PM, iter: 007, cost: 0.039253\n",
      "08/25/22 - 03:47.29PM, iter: 008, cost: 0.038568\n",
      "08/25/22 - 03:47.42PM, iter: 009, cost: 0.038031\n",
      "08/25/22 - 03:47.53PM, iter: 010, cost: 0.037592\n",
      "08/25/22 - 03:48.06PM, iter: 011, cost: 0.037232\n",
      "08/25/22 - 03:48.19PM, iter: 012, cost: 0.036923\n",
      "08/25/22 - 03:48.31PM, iter: 013, cost: 0.036660\n",
      "08/25/22 - 03:48.44PM, iter: 014, cost: 0.036432\n",
      "08/25/22 - 03:48.57PM, iter: 015, cost: 0.036230\n",
      "$ python eval/python/evaluate.py\n",
      "capital-common-countries.txt:\n",
      "ACCURACY TOP1: 53.95% (273/506)\n",
      "capital-world.txt:\n",
      "ACCURACY TOP1: 26.07% (929/3564)\n",
      "currency.txt:\n",
      "ACCURACY TOP1: 5.20% (31/596)\n",
      "city-in-state.txt:\n",
      "ACCURACY TOP1: 27.04% (630/2330)\n",
      "family.txt:\n",
      "ACCURACY TOP1: 42.14% (177/420)\n",
      "gram1-adjective-to-adverb.txt:\n",
      "ACCURACY TOP1: 4.13% (41/992)\n",
      "gram2-opposite.txt:\n",
      "ACCURACY TOP1: 2.38% (18/756)\n",
      "gram3-comparative.txt:\n",
      "ACCURACY TOP1: 21.25% (283/1332)\n",
      "gram4-superlative.txt:\n",
      "ACCURACY TOP1: 7.16% (71/992)\n",
      "gram5-present-participle.txt:\n",
      "ACCURACY TOP1: 14.11% (149/1056)\n",
      "gram6-nationality-adjective.txt:\n",
      "ACCURACY TOP1: 56.08% (853/1521)\n",
      "gram7-past-tense.txt:\n",
      "ACCURACY TOP1: 14.87% (232/1560)\n",
      "gram8-plural.txt:\n",
      "ACCURACY TOP1: 24.70% (329/1332)\n",
      "gram9-plural-verbs.txt:\n",
      "ACCURACY TOP1: 7.36% (64/870)\n",
      "Questions seen/total: 91.21% (17827/19544)\n",
      "Semantic accuracy: 27.51%  (2040/7416)\n",
      "Syntactic accuracy: 19.59%  (2040/10411)\n",
      "Total accuracy: 22.89%  (4080/17827)\n"
     ]
    }
   ],
   "source": [
    "! ./demo.sh"
   ]
  }
 ],
 "metadata": {
  "kernelspec": {
   "display_name": "Python 3",
   "language": "python",
   "name": "python3"
  },
  "language_info": {
   "codemirror_mode": {
    "name": "ipython",
    "version": 3
   },
   "file_extension": ".py",
   "mimetype": "text/x-python",
   "name": "python",
   "nbconvert_exporter": "python",
   "pygments_lexer": "ipython3",
   "version": "3.6.8"
  }
 },
 "nbformat": 4,
 "nbformat_minor": 4
}
